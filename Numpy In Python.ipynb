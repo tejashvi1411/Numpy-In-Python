{
 "cells": [
  {
   "cell_type": "code",
   "execution_count": 2,
   "metadata": {},
   "outputs": [
    {
     "name": "stdout",
     "output_type": "stream",
     "text": [
      "[[ 1  1  1  1]\n",
      " [ 8  4  2  1]\n",
      " [27  9  3  1]]\n",
      "[[ 1  1  1  1]\n",
      " [ 1  2  4  8]\n",
      " [ 1  3  9 27]]\n"
     ]
    }
   ],
   "source": [
    "import numpy as np\n",
    "\n",
    "def avm(l, n, increasing = False):\n",
    "    if increasing:\n",
    "        print(np.array([ j** i for j in l for i in range(N)]).reshape(len(l), n))\n",
    "    else:\n",
    "        print(np.array([ j** (n-1-i) for j in l for i in range(N)]).reshape(len(l), n))\n",
    "        \n",
    "ml = [1,2,3]\n",
    "n = 4\n",
    "\n",
    "avm(np.array(ml),n)\n",
    "\n",
    "avm(np.array(ml),n, increasing= True)"
   ]
  },
  {
   "cell_type": "code",
   "execution_count": 2,
   "metadata": {},
   "outputs": [
    {
     "name": "stdout",
     "output_type": "stream",
     "text": [
      "11\n",
      "11\n",
      "y1 = 5.0\n",
      "y2 = 4.666666666666667\n",
      "y3 = 5.666666666666667\n",
      "y4 = 6.666666666666667\n",
      "y5 = 9.666666666666666\n",
      "y6 = 28.666666666666668\n",
      "y7 = 49.333333333333336\n",
      "y8 = 72.66666666666667\n",
      "y9 = 84.0\n",
      "y10 = 93.33333333333333\n",
      "y11 = 116.33333333333333\n"
     ]
    }
   ],
   "source": [
    "var= [3, 5, 7, 2, 8, 10, 11, 65, 72, 81, 99, 100, 150] \n",
    "window = 3\n",
    "result = []\n",
    "\n",
    "for i in range(len(var)):\n",
    "    if i != len(var)-2:\n",
    "        result.append((var[i]+var[i+1]+var[i+2])/window)\n",
    "    else:\n",
    "        break\n",
    "resultsize = len(var)-window+1\n",
    "print(resultsize)\n",
    "print(len(result))\n",
    "for j in range(len(result)):\n",
    "    print(f'y{j+1} = {result[j]}')"
   ]
  },
  {
   "cell_type": "code",
   "execution_count": null,
   "metadata": {},
   "outputs": [],
   "source": []
  }
 ],
 "metadata": {
  "kernelspec": {
   "display_name": "Python 3",
   "language": "python",
   "name": "python3"
  },
  "language_info": {
   "codemirror_mode": {
    "name": "ipython",
    "version": 3
   },
   "file_extension": ".py",
   "mimetype": "text/x-python",
   "name": "python",
   "nbconvert_exporter": "python",
   "pygments_lexer": "ipython3",
   "version": "3.7.4"
  }
 },
 "nbformat": 4,
 "nbformat_minor": 2
}
